{
 "cells": [
  {
   "cell_type": "markdown",
   "metadata": {},
   "source": [
    "# Instituto Tecnologico de Estudios Superiores del Occidente\n",
    "![](https://upload.wikimedia.org/wikipedia/en/thumb/5/5f/Western_Institute_of_Technology_and_Higher_Education_logo.png/220px-Western_Institute_of_Technology_and_Higher_Education_logo.png)\n",
    "  \n",
    "## Proyecto: Tasa de Natalidad en México   \n",
    "\n",
    "## Salvador Octavio Briones Martinez  - Is707869  \n",
    "## Aristofanes Cruz Huante - Is708067"
   ]
  },
  {
   "cell_type": "markdown",
   "metadata": {},
   "source": [
    "___\n",
    "## Tasa bruta de Natalidad en México\n",
    "\n",
    "### Objetivos.\n",
    "> La tasa bruta de natalidad indica el número de nacimientos vivos ocurridos durante el año por cada 1000 personas estimadas a mitad de año. Debido a esto, se desea conocer las cifras obtenidas durante cada año en el país de México desde 1960 hasta el año 2017, verificando así su tendencias.\n",
    "> - Estas cifras son importantes para el país, ya que con ella se puede conocer la tendencia de la población y se mediante ello, se pueden determinar acciones futuras.\n",
    "> - Se tomarán datos sobre dicho tema y se generará un polinomio que aproxime la gráfica generada por los datos\n",
    "> - Se comparará los resultados reales con los del polinomio y se podrán proveer conclusiones.\n"
   ]
  },
  {
   "cell_type": "markdown",
   "metadata": {},
   "source": [
    "Primeramente importaremos las librerias deseadas"
   ]
  },
  {
   "cell_type": "code",
   "execution_count": 1,
   "metadata": {},
   "outputs": [],
   "source": [
    "import pandas as pd\n",
    "import numpy as np\n",
    "import scipy.optimize as opt\n",
    "import matplotlib.pyplot as plt"
   ]
  },
  {
   "cell_type": "markdown",
   "metadata": {},
   "source": [
    "Incluiremos en este proyecto el archivo con los datos necesarios para poder trabajar."
   ]
  },
  {
   "cell_type": "code",
   "execution_count": 2,
   "metadata": {
    "scrolled": true
   },
   "outputs": [
    {
     "data": {
      "text/html": [
       "<div>\n",
       "<style>\n",
       "    .dataframe thead tr:only-child th {\n",
       "        text-align: right;\n",
       "    }\n",
       "\n",
       "    .dataframe thead th {\n",
       "        text-align: left;\n",
       "    }\n",
       "\n",
       "    .dataframe tbody tr th {\n",
       "        vertical-align: top;\n",
       "    }\n",
       "</style>\n",
       "<table border=\"1\" class=\"dataframe\">\n",
       "  <thead>\n",
       "    <tr style=\"text-align: right;\">\n",
       "      <th></th>\n",
       "      <th>Consecutive</th>\n",
       "      <th>Year</th>\n",
       "      <th>Mexico</th>\n",
       "    </tr>\n",
       "  </thead>\n",
       "  <tbody>\n",
       "    <tr>\n",
       "      <th>0</th>\n",
       "      <td>1</td>\n",
       "      <td>1960</td>\n",
       "      <td>45.179</td>\n",
       "    </tr>\n",
       "    <tr>\n",
       "      <th>1</th>\n",
       "      <td>2</td>\n",
       "      <td>1961</td>\n",
       "      <td>44.919</td>\n",
       "    </tr>\n",
       "    <tr>\n",
       "      <th>2</th>\n",
       "      <td>3</td>\n",
       "      <td>1962</td>\n",
       "      <td>44.698</td>\n",
       "    </tr>\n",
       "    <tr>\n",
       "      <th>3</th>\n",
       "      <td>4</td>\n",
       "      <td>1963</td>\n",
       "      <td>44.517</td>\n",
       "    </tr>\n",
       "    <tr>\n",
       "      <th>4</th>\n",
       "      <td>5</td>\n",
       "      <td>1964</td>\n",
       "      <td>44.366</td>\n",
       "    </tr>\n",
       "    <tr>\n",
       "      <th>5</th>\n",
       "      <td>6</td>\n",
       "      <td>1965</td>\n",
       "      <td>44.232</td>\n",
       "    </tr>\n",
       "    <tr>\n",
       "      <th>6</th>\n",
       "      <td>7</td>\n",
       "      <td>1966</td>\n",
       "      <td>44.096</td>\n",
       "    </tr>\n",
       "    <tr>\n",
       "      <th>7</th>\n",
       "      <td>8</td>\n",
       "      <td>1967</td>\n",
       "      <td>43.931</td>\n",
       "    </tr>\n",
       "    <tr>\n",
       "      <th>8</th>\n",
       "      <td>9</td>\n",
       "      <td>1968</td>\n",
       "      <td>43.712</td>\n",
       "    </tr>\n",
       "    <tr>\n",
       "      <th>9</th>\n",
       "      <td>10</td>\n",
       "      <td>1969</td>\n",
       "      <td>43.420</td>\n",
       "    </tr>\n",
       "    <tr>\n",
       "      <th>10</th>\n",
       "      <td>11</td>\n",
       "      <td>1970</td>\n",
       "      <td>43.029</td>\n",
       "    </tr>\n",
       "    <tr>\n",
       "      <th>11</th>\n",
       "      <td>12</td>\n",
       "      <td>1971</td>\n",
       "      <td>42.522</td>\n",
       "    </tr>\n",
       "    <tr>\n",
       "      <th>12</th>\n",
       "      <td>13</td>\n",
       "      <td>1972</td>\n",
       "      <td>41.903</td>\n",
       "    </tr>\n",
       "    <tr>\n",
       "      <th>13</th>\n",
       "      <td>14</td>\n",
       "      <td>1973</td>\n",
       "      <td>41.183</td>\n",
       "    </tr>\n",
       "    <tr>\n",
       "      <th>14</th>\n",
       "      <td>15</td>\n",
       "      <td>1974</td>\n",
       "      <td>40.375</td>\n",
       "    </tr>\n",
       "    <tr>\n",
       "      <th>15</th>\n",
       "      <td>16</td>\n",
       "      <td>1975</td>\n",
       "      <td>39.493</td>\n",
       "    </tr>\n",
       "    <tr>\n",
       "      <th>16</th>\n",
       "      <td>17</td>\n",
       "      <td>1976</td>\n",
       "      <td>38.557</td>\n",
       "    </tr>\n",
       "    <tr>\n",
       "      <th>17</th>\n",
       "      <td>18</td>\n",
       "      <td>1977</td>\n",
       "      <td>37.592</td>\n",
       "    </tr>\n",
       "    <tr>\n",
       "      <th>18</th>\n",
       "      <td>19</td>\n",
       "      <td>1978</td>\n",
       "      <td>36.629</td>\n",
       "    </tr>\n",
       "    <tr>\n",
       "      <th>19</th>\n",
       "      <td>20</td>\n",
       "      <td>1979</td>\n",
       "      <td>35.693</td>\n",
       "    </tr>\n",
       "    <tr>\n",
       "      <th>20</th>\n",
       "      <td>21</td>\n",
       "      <td>1980</td>\n",
       "      <td>34.809</td>\n",
       "    </tr>\n",
       "    <tr>\n",
       "      <th>21</th>\n",
       "      <td>22</td>\n",
       "      <td>1981</td>\n",
       "      <td>33.999</td>\n",
       "    </tr>\n",
       "    <tr>\n",
       "      <th>22</th>\n",
       "      <td>23</td>\n",
       "      <td>1982</td>\n",
       "      <td>33.261</td>\n",
       "    </tr>\n",
       "    <tr>\n",
       "      <th>23</th>\n",
       "      <td>24</td>\n",
       "      <td>1983</td>\n",
       "      <td>32.592</td>\n",
       "    </tr>\n",
       "    <tr>\n",
       "      <th>24</th>\n",
       "      <td>25</td>\n",
       "      <td>1984</td>\n",
       "      <td>31.987</td>\n",
       "    </tr>\n",
       "    <tr>\n",
       "      <th>25</th>\n",
       "      <td>26</td>\n",
       "      <td>1985</td>\n",
       "      <td>31.434</td>\n",
       "    </tr>\n",
       "    <tr>\n",
       "      <th>26</th>\n",
       "      <td>27</td>\n",
       "      <td>1986</td>\n",
       "      <td>30.913</td>\n",
       "    </tr>\n",
       "    <tr>\n",
       "      <th>27</th>\n",
       "      <td>28</td>\n",
       "      <td>1987</td>\n",
       "      <td>30.402</td>\n",
       "    </tr>\n",
       "    <tr>\n",
       "      <th>28</th>\n",
       "      <td>29</td>\n",
       "      <td>1988</td>\n",
       "      <td>29.885</td>\n",
       "    </tr>\n",
       "    <tr>\n",
       "      <th>29</th>\n",
       "      <td>30</td>\n",
       "      <td>1989</td>\n",
       "      <td>29.352</td>\n",
       "    </tr>\n",
       "    <tr>\n",
       "      <th>30</th>\n",
       "      <td>31</td>\n",
       "      <td>1990</td>\n",
       "      <td>28.802</td>\n",
       "    </tr>\n",
       "    <tr>\n",
       "      <th>31</th>\n",
       "      <td>32</td>\n",
       "      <td>1991</td>\n",
       "      <td>28.240</td>\n",
       "    </tr>\n",
       "    <tr>\n",
       "      <th>32</th>\n",
       "      <td>33</td>\n",
       "      <td>1992</td>\n",
       "      <td>27.681</td>\n",
       "    </tr>\n",
       "    <tr>\n",
       "      <th>33</th>\n",
       "      <td>34</td>\n",
       "      <td>1993</td>\n",
       "      <td>27.134</td>\n",
       "    </tr>\n",
       "    <tr>\n",
       "      <th>34</th>\n",
       "      <td>35</td>\n",
       "      <td>1994</td>\n",
       "      <td>26.604</td>\n",
       "    </tr>\n",
       "    <tr>\n",
       "      <th>35</th>\n",
       "      <td>36</td>\n",
       "      <td>1995</td>\n",
       "      <td>26.096</td>\n",
       "    </tr>\n",
       "    <tr>\n",
       "      <th>36</th>\n",
       "      <td>37</td>\n",
       "      <td>1996</td>\n",
       "      <td>25.611</td>\n",
       "    </tr>\n",
       "    <tr>\n",
       "      <th>37</th>\n",
       "      <td>38</td>\n",
       "      <td>1997</td>\n",
       "      <td>25.148</td>\n",
       "    </tr>\n",
       "    <tr>\n",
       "      <th>38</th>\n",
       "      <td>39</td>\n",
       "      <td>1998</td>\n",
       "      <td>24.702</td>\n",
       "    </tr>\n",
       "    <tr>\n",
       "      <th>39</th>\n",
       "      <td>40</td>\n",
       "      <td>1999</td>\n",
       "      <td>24.272</td>\n",
       "    </tr>\n",
       "    <tr>\n",
       "      <th>40</th>\n",
       "      <td>41</td>\n",
       "      <td>2000</td>\n",
       "      <td>23.850</td>\n",
       "    </tr>\n",
       "    <tr>\n",
       "      <th>41</th>\n",
       "      <td>42</td>\n",
       "      <td>2001</td>\n",
       "      <td>23.430</td>\n",
       "    </tr>\n",
       "    <tr>\n",
       "      <th>42</th>\n",
       "      <td>43</td>\n",
       "      <td>2002</td>\n",
       "      <td>23.009</td>\n",
       "    </tr>\n",
       "    <tr>\n",
       "      <th>43</th>\n",
       "      <td>44</td>\n",
       "      <td>2003</td>\n",
       "      <td>22.584</td>\n",
       "    </tr>\n",
       "    <tr>\n",
       "      <th>44</th>\n",
       "      <td>45</td>\n",
       "      <td>2004</td>\n",
       "      <td>22.158</td>\n",
       "    </tr>\n",
       "    <tr>\n",
       "      <th>45</th>\n",
       "      <td>46</td>\n",
       "      <td>2005</td>\n",
       "      <td>21.741</td>\n",
       "    </tr>\n",
       "    <tr>\n",
       "      <th>46</th>\n",
       "      <td>47</td>\n",
       "      <td>2006</td>\n",
       "      <td>21.343</td>\n",
       "    </tr>\n",
       "    <tr>\n",
       "      <th>47</th>\n",
       "      <td>48</td>\n",
       "      <td>2007</td>\n",
       "      <td>20.973</td>\n",
       "    </tr>\n",
       "    <tr>\n",
       "      <th>48</th>\n",
       "      <td>49</td>\n",
       "      <td>2008</td>\n",
       "      <td>20.635</td>\n",
       "    </tr>\n",
       "    <tr>\n",
       "      <th>49</th>\n",
       "      <td>50</td>\n",
       "      <td>2009</td>\n",
       "      <td>20.327</td>\n",
       "    </tr>\n",
       "    <tr>\n",
       "      <th>50</th>\n",
       "      <td>51</td>\n",
       "      <td>2010</td>\n",
       "      <td>20.042</td>\n",
       "    </tr>\n",
       "    <tr>\n",
       "      <th>51</th>\n",
       "      <td>52</td>\n",
       "      <td>2011</td>\n",
       "      <td>19.766</td>\n",
       "    </tr>\n",
       "    <tr>\n",
       "      <th>52</th>\n",
       "      <td>53</td>\n",
       "      <td>2012</td>\n",
       "      <td>19.488</td>\n",
       "    </tr>\n",
       "    <tr>\n",
       "      <th>53</th>\n",
       "      <td>54</td>\n",
       "      <td>2013</td>\n",
       "      <td>19.198</td>\n",
       "    </tr>\n",
       "    <tr>\n",
       "      <th>54</th>\n",
       "      <td>55</td>\n",
       "      <td>2014</td>\n",
       "      <td>18.892</td>\n",
       "    </tr>\n",
       "    <tr>\n",
       "      <th>55</th>\n",
       "      <td>56</td>\n",
       "      <td>2015</td>\n",
       "      <td>18.573</td>\n",
       "    </tr>\n",
       "    <tr>\n",
       "      <th>56</th>\n",
       "      <td>57</td>\n",
       "      <td>2016</td>\n",
       "      <td>18.245</td>\n",
       "    </tr>\n",
       "    <tr>\n",
       "      <th>57</th>\n",
       "      <td>58</td>\n",
       "      <td>2017</td>\n",
       "      <td>17.918</td>\n",
       "    </tr>\n",
       "  </tbody>\n",
       "</table>\n",
       "</div>"
      ],
      "text/plain": [
       "    Consecutive  Year  Mexico\n",
       "0             1  1960  45.179\n",
       "1             2  1961  44.919\n",
       "2             3  1962  44.698\n",
       "3             4  1963  44.517\n",
       "4             5  1964  44.366\n",
       "5             6  1965  44.232\n",
       "6             7  1966  44.096\n",
       "7             8  1967  43.931\n",
       "8             9  1968  43.712\n",
       "9            10  1969  43.420\n",
       "10           11  1970  43.029\n",
       "11           12  1971  42.522\n",
       "12           13  1972  41.903\n",
       "13           14  1973  41.183\n",
       "14           15  1974  40.375\n",
       "15           16  1975  39.493\n",
       "16           17  1976  38.557\n",
       "17           18  1977  37.592\n",
       "18           19  1978  36.629\n",
       "19           20  1979  35.693\n",
       "20           21  1980  34.809\n",
       "21           22  1981  33.999\n",
       "22           23  1982  33.261\n",
       "23           24  1983  32.592\n",
       "24           25  1984  31.987\n",
       "25           26  1985  31.434\n",
       "26           27  1986  30.913\n",
       "27           28  1987  30.402\n",
       "28           29  1988  29.885\n",
       "29           30  1989  29.352\n",
       "30           31  1990  28.802\n",
       "31           32  1991  28.240\n",
       "32           33  1992  27.681\n",
       "33           34  1993  27.134\n",
       "34           35  1994  26.604\n",
       "35           36  1995  26.096\n",
       "36           37  1996  25.611\n",
       "37           38  1997  25.148\n",
       "38           39  1998  24.702\n",
       "39           40  1999  24.272\n",
       "40           41  2000  23.850\n",
       "41           42  2001  23.430\n",
       "42           43  2002  23.009\n",
       "43           44  2003  22.584\n",
       "44           45  2004  22.158\n",
       "45           46  2005  21.741\n",
       "46           47  2006  21.343\n",
       "47           48  2007  20.973\n",
       "48           49  2008  20.635\n",
       "49           50  2009  20.327\n",
       "50           51  2010  20.042\n",
       "51           52  2011  19.766\n",
       "52           53  2012  19.488\n",
       "53           54  2013  19.198\n",
       "54           55  2014  18.892\n",
       "55           56  2015  18.573\n",
       "56           57  2016  18.245\n",
       "57           58  2017  17.918"
      ]
     },
     "execution_count": 2,
     "metadata": {},
     "output_type": "execute_result"
    }
   ],
   "source": [
    "file_name = 'BirthRateMexico.csv'\n",
    "data = pd.read_csv(file_name)\n",
    "data"
   ]
  },
  {
   "cell_type": "markdown",
   "metadata": {},
   "source": [
    "Ahora señalaremos nuestros ejes 'x' y 'y' sobre nuestra recien creada tabla, dejando los consecutivos como el eje 'x' y la tasa de natalidad en el eje 'y'"
   ]
  },
  {
   "cell_type": "code",
   "execution_count": 3,
   "metadata": {
    "collapsed": true
   },
   "outputs": [],
   "source": [
    "x = data.iloc[:,0].values\n",
    "y = data.iloc[:,2].values"
   ]
  },
  {
   "cell_type": "markdown",
   "metadata": {},
   "source": [
    "Definimos la funcion objetivo."
   ]
  },
  {
   "cell_type": "code",
   "execution_count": 4,
   "metadata": {
    "collapsed": true
   },
   "outputs": [],
   "source": [
    "def fun_obj(beta,x,y,n):\n",
    "    yhat = beta.dot([x**i for i in range(n+1)])\n",
    "    e = y-yhat\n",
    "    return np.sum(e**2)"
   ]
  },
  {
   "cell_type": "markdown",
   "metadata": {},
   "source": [
    "Realizamos los ajustes para aproximar la gráfica"
   ]
  },
  {
   "cell_type": "code",
   "execution_count": 5,
   "metadata": {
    "collapsed": true
   },
   "outputs": [],
   "source": [
    "b01 = np.zeros(2)\n",
    "b02 = np.zeros(3)\n",
    "b03 = np.zeros(4)\n",
    "\n",
    "ajuste1 = opt.minimize(fun_obj,b01,args=(x,y,1))\n",
    "ajuste2 = opt.minimize(fun_obj,b02,args=(x,y,2))\n",
    "ajuste3 = opt.minimize(fun_obj,b03,args=(x,y,3))"
   ]
  },
  {
   "cell_type": "code",
   "execution_count": 6,
   "metadata": {},
   "outputs": [
    {
     "data": {
      "text/plain": [
       "      fun: 91.16923226817784\n",
       " hess_inv: array([[  4.56453071e-05,  -1.28840874e-05],\n",
       "       [ -1.28840874e-05,   8.13502261e-06]])\n",
       "      jac: array([ -1.14440918e-05,   1.90734863e-05])\n",
       "  message: 'Desired error not necessarily achieved due to precision loss.'\n",
       "     nfev: 251\n",
       "      nit: 6\n",
       "     njev: 60\n",
       "   status: 2\n",
       "  success: False\n",
       "        x: array([ 46.87801311,  -0.5399081 ])"
      ]
     },
     "execution_count": 6,
     "metadata": {},
     "output_type": "execute_result"
    }
   ],
   "source": [
    "ajuste1"
   ]
  },
  {
   "cell_type": "code",
   "execution_count": 7,
   "metadata": {},
   "outputs": [
    {
     "data": {
      "text/plain": [
       "      fun: 57.066561473163006\n",
       " hess_inv: array([[  8.31936787e-02,  -5.68782624e-03,   8.10236081e-05],\n",
       "       [ -5.68782624e-03,   5.08801313e-04,  -8.10238705e-06],\n",
       "       [  8.10236081e-05,  -8.10238705e-06,   1.37328616e-07]])\n",
       "      jac: array([ -4.76837158e-07,   0.00000000e+00,  -9.53674316e-07])\n",
       "  message: 'Optimization terminated successfully.'\n",
       "     nfev: 45\n",
       "      nit: 7\n",
       "     njev: 9\n",
       "   status: 0\n",
       "  success: True\n",
       "        x: array([  4.86835104e+01,  -7.20457804e-01,   3.06016420e-03])"
      ]
     },
     "execution_count": 7,
     "metadata": {},
     "output_type": "execute_result"
    }
   ],
   "source": [
    "ajuste2"
   ]
  },
  {
   "cell_type": "code",
   "execution_count": 8,
   "metadata": {},
   "outputs": [
    {
     "data": {
      "text/plain": [
       "      fun: 26.26358871996816\n",
       " hess_inv: array([[  1.57417447e-01,  -2.01689547e-02,   6.89419334e-04,\n",
       "         -6.87455127e-06],\n",
       "       [ -2.01689547e-02,   3.33409797e-03,  -1.26801606e-04,\n",
       "          1.34123800e-06],\n",
       "       [  6.89419334e-04,  -1.26801606e-04,   5.12423554e-06,\n",
       "         -5.63493494e-08],\n",
       "       [ -6.87455127e-06,   1.34123800e-06,  -5.63493494e-08,\n",
       "          6.36716771e-10]])\n",
       "      jac: array([  0.00000000e+00,   0.00000000e+00,   2.38418579e-07,\n",
       "         2.38418579e-07])\n",
       "  message: 'Optimization terminated successfully.'\n",
       "     nfev: 60\n",
       "      nit: 7\n",
       "     njev: 10\n",
       "   status: 0\n",
       "  success: True\n",
       "        x: array([  4.65779415e+01,  -3.09660265e-01,  -1.41985979e-02,\n",
       "         1.95014262e-04])"
      ]
     },
     "execution_count": 8,
     "metadata": {},
     "output_type": "execute_result"
    }
   ],
   "source": [
    "ajuste3"
   ]
  },
  {
   "cell_type": "code",
   "execution_count": 9,
   "metadata": {
    "collapsed": true
   },
   "outputs": [],
   "source": [
    "beta1 = ajuste1.x\n",
    "beta2 = ajuste2.x\n",
    "beta3 = ajuste3.x\n",
    "\n",
    "yhat1 = beta1[0] + beta1[1]*x\n",
    "yhat2 = beta2[0] + beta2[1]*x + beta2[2]*x**2\n",
    "yhat3 = beta3[0] + beta3[1]*x + beta3[2]*x**2 + beta3[3]*x**3"
   ]
  },
  {
   "cell_type": "markdown",
   "metadata": {},
   "source": [
    "Generamos la gráfica"
   ]
  },
  {
   "cell_type": "code",
   "execution_count": 12,
   "metadata": {},
   "outputs": [
    {
     "data": {
      "image/png": "[encoded data removed]",
      "text/plain": [
       "<matplotlib.figure.Figure at 0x162cfe135c0>"
      ]
     },
     "metadata": {},
     "output_type": "display_data"
    }
   ],
   "source": [
    "plt.figure(figsize=(8,6))\n",
    "plt.plot(x,y,'r*',ms = 6,label='Puntos')\n",
    "plt.plot(x,yhat1,'b',ms = 6,label='Ajuste 1')\n",
    "plt.plot(x,yhat2,'k',ms = 6,label='Ajuste 2')\n",
    "plt.plot(x,yhat3,'g',ms = 6,label='Ajuste 3')\n",
    "plt.grid()\n",
    "plt.legend(loc='best')\n",
    "plt.xlabel('Años')\n",
    "plt.ylabel('Tasa de Natalidad')\n",
    "plt.show()"
   ]
  },
  {
   "cell_type": "markdown",
   "metadata": {},
   "source": [
    "Detallamos los erroes por ajuste"
   ]
  },
  {
   "cell_type": "code",
   "execution_count": 11,
   "metadata": {},
   "outputs": [
    {
     "data": {
      "image/png": "[encoded data removed]",
      "text/plain": [
       "<matplotlib.figure.Figure at 0x162cdacff60>"
      ]
     },
     "metadata": {},
     "output_type": "display_data"
    }
   ],
   "source": [
    "error = [ajuste1.fun,ajuste2.fun,ajuste3.fun]\n",
    "plt.figure(figsize=(8,6))\n",
    "plt.plot(range(1,4),error,'ro',ms=5)\n",
    "plt.xlabel('Orden del polinomio')\n",
    "plt.ylabel('Error')\n",
    "plt.grid()\n",
    "plt.show()"
   ]
  },
  {
   "cell_type": "code",
   "execution_count": null,
   "metadata": {
    "collapsed": true
   },
   "outputs": [],
   "source": []
  },
  {
   "cell_type": "markdown",
   "metadata": {},
   "source": [
    "### Liga Github\n",
    "https://github.com/sbriones97/proyecto_modulo1\n"
   ]
  },
  {
   "cell_type": "markdown",
   "metadata": {},
   "source": [
    "\n",
    "### Conclusiones.\n",
    "> Observando las gráficas obtenidas por los datos proporcionados por la página The World Bank, podemos observar que en los últimos años la tasa de natalidad ha disminuido considerablemente y sigue bajando esta. Esto nos quiere decir que cada día hay más personas que no desean tener hijos o se previene mucho los embarazos.\n",
    "A través de nuestra gráfica de ajuste de curvas, pudimos concluir que el polinomio que más se ajusta es el de grado tres.\n",
    "\n",
    "\n",
    "### Referencias.\n",
    "> NA. (2019). Birth rate, crude (per 1,000 people) - Mexico. Septiembre 2019, de The World Bank Data Sitio web: https://data.worldbank.org/indicator/SP.DYN.CBRT.IN?contextual=default&end=2017&locations=MX&name_desc=false&start=1960&type=points&view=chart\n",
    "\n",
    "> ( 1 ) United Nations Population Division. World Population Prospects: 2019 Revision. ( 2 ) Census reports and other statistical publications from national statistical offices, ( 3 ) Eurostat: Demographic Statistics, ( 4 ) United Nations Statistical Division. Population and Vital Statistics Reprot ( various years ), ( 5 ) U.S. Census Bureau: International Database, and ( 6 ) Secretariat of the Pacific Community: Statistics and Demography Programme.\n"
   ]
  },
  {
   "cell_type": "markdown",
   "metadata": {},
   "source": [
    "<script>\n",
    "  $(document).ready(function(){\n",
    "    $('div.prompt').hide();\n",
    "    $('div.back-to-top').hide();\n",
    "    $('nav#menubar').hide();\n",
    "    $('.breadcrumb').hide();\n",
    "    $('.hidden-print').hide();\n",
    "  });\n",
    "</script>\n",
    "\n",
    "<footer id=\"attribution\" style=\"float:right; color:#808080; background:#fff;\">\n",
    "Created with Jupyter by Cristian Camilo Zapata Zuluaga.\n",
    "</footer>"
   ]
  }
 ],
 "metadata": {
  "kernelspec": {
   "display_name": "Python 3",
   "language": "python",
   "name": "python3"
  },
  "language_info": {
   "codemirror_mode": {
    "name": "ipython",
    "version": 3
   },
   "file_extension": ".py",
   "mimetype": "text/x-python",
   "name": "python",
   "nbconvert_exporter": "python",
   "pygments_lexer": "ipython3",
   "version": "3.6.2"
  }
 },
 "nbformat": 4,
 "nbformat_minor": 2
}
